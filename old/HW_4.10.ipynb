{
 "cells": [
  {
   "cell_type": "code",
   "execution_count": 1,
   "metadata": {},
   "outputs": [],
   "source": [
    "# Dependencies and Setup\n",
    "import matplotlib.pyplot as plt\n",
    "import pandas as pd\n",
    "import scipy.stats as st"
   ]
  },
  {
   "cell_type": "code",
   "execution_count": 2,
   "metadata": {},
   "outputs": [],
   "source": [
    "# Study data files\n",
    "mouse_metadata_path = \"Pymaceuticals/data/Mouse_metadata.csv\"\n",
    "study_results_path = \"Pymaceuticals/data/Study_results.csv\"\n",
    "\n",
    "# Read the mouse data and the study results\n",
    "mouse_metadata = pd.read_csv(mouse_metadata_path)\n",
    "study_results = pd.read_csv(study_results_path)"
   ]
  },
  {
   "cell_type": "code",
   "execution_count": 3,
   "metadata": {},
   "outputs": [
    {
     "name": "stdout",
     "output_type": "stream",
     "text": [
      "<class 'pandas.core.frame.DataFrame'>\n",
      "RangeIndex: 249 entries, 0 to 248\n",
      "Data columns (total 5 columns):\n",
      " #   Column        Non-Null Count  Dtype \n",
      "---  ------        --------------  ----- \n",
      " 0   Mouse ID      249 non-null    object\n",
      " 1   Drug Regimen  249 non-null    object\n",
      " 2   Sex           249 non-null    object\n",
      " 3   Age_months    249 non-null    int64 \n",
      " 4   Weight (g)    249 non-null    int64 \n",
      "dtypes: int64(2), object(3)\n",
      "memory usage: 6.9+ KB\n"
     ]
    }
   ],
   "source": [
    "# Get Info for each DataFrame\n",
    "mouse_metadata.info()"
   ]
  },
  {
   "cell_type": "code",
   "execution_count": 4,
   "metadata": {},
   "outputs": [
    {
     "name": "stdout",
     "output_type": "stream",
     "text": [
      "<class 'pandas.core.frame.DataFrame'>\n",
      "RangeIndex: 1893 entries, 0 to 1892\n",
      "Data columns (total 4 columns):\n",
      " #   Column              Non-Null Count  Dtype  \n",
      "---  ------              --------------  -----  \n",
      " 0   Mouse ID            1893 non-null   object \n",
      " 1   Timepoint           1893 non-null   int64  \n",
      " 2   Tumor Volume (mm3)  1893 non-null   float64\n",
      " 3   Metastatic Sites    1893 non-null   int64  \n",
      "dtypes: float64(1), int64(2), object(1)\n",
      "memory usage: 51.8+ KB\n"
     ]
    }
   ],
   "source": [
    "study_results.info()"
   ]
  },
  {
   "cell_type": "code",
   "execution_count": null,
   "metadata": {},
   "outputs": [],
   "source": []
  },
  {
   "cell_type": "code",
   "execution_count": 5,
   "metadata": {},
   "outputs": [
    {
     "name": "stdout",
     "output_type": "stream",
     "text": [
      "Unique Mice in study results df: 249\n",
      "Unique Mice in mouse metadata df: 249\n"
     ]
    }
   ],
   "source": [
    "# Print Number of Unique Mice ID's in Data\n",
    "\n",
    "study_results_unique = len(study_results['Mouse ID'].unique())\n",
    "mouse_metadata_unique = len(study_results['Mouse ID'].unique())\n",
    "\n",
    "print(f'Unique Mice in study results df: {study_results_unique}')\n",
    "print(f'Unique Mice in mouse metadata df: {mouse_metadata_unique}')"
   ]
  },
  {
   "cell_type": "code",
   "execution_count": 6,
   "metadata": {},
   "outputs": [
    {
     "name": "stdout",
     "output_type": "stream",
     "text": [
      "Number of duplicate IDs: 1\n",
      "Lines dropped 13\n",
      "Unique Mice after dropping duplicates: 248\n"
     ]
    }
   ],
   "source": [
    "# ID any MouseID / Timepoint Duplicates save into new DF\n",
    "\n",
    "study_results_sorted = study_results.sort_values(['Mouse ID','Timepoint'])\n",
    "\n",
    "id_duplicates = study_results_sorted[study_results_sorted.duplicated(subset=['Mouse ID','Timepoint'])==True]\n",
    "\n",
    "dups = []\n",
    "for item in id_duplicates['Mouse ID'].unique():\n",
    "    dups.append(item)\n",
    "print(f'Number of duplicate IDs: {len(dups)}')\n",
    "\n",
    "duplicate_df = study_results[study_results['Mouse ID'] == dups[0]]\n",
    "\n",
    "# Clean DF with no duplicates\n",
    "\n",
    "clean_study_results_df = study_results[study_results['Mouse ID'] != dups[0]]\n",
    "\n",
    "lines_dropped = len(study_results) - len(clean_study_results_df)\n",
    "study_results_unique = len(clean_study_results_df['Mouse ID'].unique())\n",
    "\n",
    "print(f'Lines dropped {lines_dropped}')\n",
    "print(f'Unique Mice after dropping duplicates: {study_results_unique}')"
   ]
  },
  {
   "cell_type": "code",
   "execution_count": 7,
   "metadata": {},
   "outputs": [],
   "source": [
    "# Merge Clean Study Results and Mouse Metadata DF's\n",
    "main_df = clean_study_results_df.merge(mouse_metadata,on='Mouse ID')"
   ]
  },
  {
   "cell_type": "code",
   "execution_count": 8,
   "metadata": {},
   "outputs": [
    {
     "data": {
      "text/html": [
       "<div>\n",
       "<style scoped>\n",
       "    .dataframe tbody tr th:only-of-type {\n",
       "        vertical-align: middle;\n",
       "    }\n",
       "\n",
       "    .dataframe tbody tr th {\n",
       "        vertical-align: top;\n",
       "    }\n",
       "\n",
       "    .dataframe thead th {\n",
       "        text-align: right;\n",
       "    }\n",
       "</style>\n",
       "<table border=\"1\" class=\"dataframe\">\n",
       "  <thead>\n",
       "    <tr style=\"text-align: right;\">\n",
       "      <th></th>\n",
       "      <th>Mean</th>\n",
       "      <th>Median</th>\n",
       "      <th>Variance</th>\n",
       "      <th>Standard Deviation</th>\n",
       "      <th>SEM</th>\n",
       "    </tr>\n",
       "    <tr>\n",
       "      <th>Drug Regimen</th>\n",
       "      <th></th>\n",
       "      <th></th>\n",
       "      <th></th>\n",
       "      <th></th>\n",
       "      <th></th>\n",
       "    </tr>\n",
       "  </thead>\n",
       "  <tbody>\n",
       "    <tr>\n",
       "      <th>Capomulin</th>\n",
       "      <td>40.675741</td>\n",
       "      <td>41.557809</td>\n",
       "      <td>24.947764</td>\n",
       "      <td>4.994774</td>\n",
       "      <td>0.329346</td>\n",
       "    </tr>\n",
       "    <tr>\n",
       "      <th>Ceftamin</th>\n",
       "      <td>52.591172</td>\n",
       "      <td>51.776157</td>\n",
       "      <td>39.290177</td>\n",
       "      <td>6.268188</td>\n",
       "      <td>0.469821</td>\n",
       "    </tr>\n",
       "    <tr>\n",
       "      <th>Infubinol</th>\n",
       "      <td>52.884795</td>\n",
       "      <td>51.820584</td>\n",
       "      <td>43.128684</td>\n",
       "      <td>6.567243</td>\n",
       "      <td>0.492236</td>\n",
       "    </tr>\n",
       "    <tr>\n",
       "      <th>Ketapril</th>\n",
       "      <td>55.235638</td>\n",
       "      <td>53.698743</td>\n",
       "      <td>68.553577</td>\n",
       "      <td>8.279709</td>\n",
       "      <td>0.603860</td>\n",
       "    </tr>\n",
       "    <tr>\n",
       "      <th>Naftisol</th>\n",
       "      <td>54.331565</td>\n",
       "      <td>52.509285</td>\n",
       "      <td>66.173479</td>\n",
       "      <td>8.134708</td>\n",
       "      <td>0.596466</td>\n",
       "    </tr>\n",
       "    <tr>\n",
       "      <th>Placebo</th>\n",
       "      <td>54.033581</td>\n",
       "      <td>52.288934</td>\n",
       "      <td>61.168083</td>\n",
       "      <td>7.821003</td>\n",
       "      <td>0.581331</td>\n",
       "    </tr>\n",
       "    <tr>\n",
       "      <th>Propriva</th>\n",
       "      <td>52.320930</td>\n",
       "      <td>50.446266</td>\n",
       "      <td>43.852013</td>\n",
       "      <td>6.622085</td>\n",
       "      <td>0.544332</td>\n",
       "    </tr>\n",
       "    <tr>\n",
       "      <th>Ramicane</th>\n",
       "      <td>40.216745</td>\n",
       "      <td>40.673236</td>\n",
       "      <td>23.486704</td>\n",
       "      <td>4.846308</td>\n",
       "      <td>0.320955</td>\n",
       "    </tr>\n",
       "    <tr>\n",
       "      <th>Stelasyn</th>\n",
       "      <td>54.233149</td>\n",
       "      <td>52.431737</td>\n",
       "      <td>59.450562</td>\n",
       "      <td>7.710419</td>\n",
       "      <td>0.573111</td>\n",
       "    </tr>\n",
       "    <tr>\n",
       "      <th>Zoniferol</th>\n",
       "      <td>53.236507</td>\n",
       "      <td>51.818479</td>\n",
       "      <td>48.533355</td>\n",
       "      <td>6.966589</td>\n",
       "      <td>0.516398</td>\n",
       "    </tr>\n",
       "  </tbody>\n",
       "</table>\n",
       "</div>"
      ],
      "text/plain": [
       "                   Mean     Median   Variance  Standard Deviation       SEM\n",
       "Drug Regimen                                                               \n",
       "Capomulin     40.675741  41.557809  24.947764            4.994774  0.329346\n",
       "Ceftamin      52.591172  51.776157  39.290177            6.268188  0.469821\n",
       "Infubinol     52.884795  51.820584  43.128684            6.567243  0.492236\n",
       "Ketapril      55.235638  53.698743  68.553577            8.279709  0.603860\n",
       "Naftisol      54.331565  52.509285  66.173479            8.134708  0.596466\n",
       "Placebo       54.033581  52.288934  61.168083            7.821003  0.581331\n",
       "Propriva      52.320930  50.446266  43.852013            6.622085  0.544332\n",
       "Ramicane      40.216745  40.673236  23.486704            4.846308  0.320955\n",
       "Stelasyn      54.233149  52.431737  59.450562            7.710419  0.573111\n",
       "Zoniferol     53.236507  51.818479  48.533355            6.966589  0.516398"
      ]
     },
     "execution_count": 8,
     "metadata": {},
     "output_type": "execute_result"
    }
   ],
   "source": [
    "# Create DataFrame grouped by Drug Regimen\n",
    "drug_df = main_df.groupby('Drug Regimen')\n",
    "\n",
    "# Save summary metrics\n",
    "mean = drug_df['Tumor Volume (mm3)'].mean()\n",
    "median = drug_df['Tumor Volume (mm3)'].median()\n",
    "var = drug_df['Tumor Volume (mm3)'].var()\n",
    "std = drug_df['Tumor Volume (mm3)'].std()\n",
    "sem = drug_df['Tumor Volume (mm3)'].sem()\n",
    "\n",
    "# created dictionary for summary DataFrame\n",
    "sum_dict = {'Mean':mean,'Median':median,'Variance':var,'Standard Deviation':std,'SEM':sem}\n",
    "\n",
    "# Create, Save, and Display Summary DataFrame\n",
    "summary_df = pd.DataFrame(sum_dict)\n",
    "summary_df"
   ]
  },
  {
   "cell_type": "code",
   "execution_count": 23,
   "metadata": {},
   "outputs": [
    {
     "data": {
      "image/png": "[encoded data removed]",
      "text/plain": [
       "<Figure size 432x288 with 1 Axes>"
      ]
     },
     "metadata": {
      "needs_background": "light"
     },
     "output_type": "display_data"
    }
   ],
   "source": [
    "# DF.plot()\n",
    "\n",
    "plt.ylabel('Count of Mice')\n",
    "drug_df.count()['Mouse ID'].plot(kind='bar',title='Measurements Taken For Each Treatment Regimen',width=.5);"
   ]
  },
  {
   "cell_type": "code",
   "execution_count": 22,
   "metadata": {},
   "outputs": [
    {
     "data": {
      "image/png": "[encoded data removed]",
      "text/plain": [
       "<Figure size 432x288 with 1 Axes>"
      ]
     },
     "metadata": {
      "needs_background": "light"
     },
     "output_type": "display_data"
    }
   ],
   "source": [
    "# pyplot\n",
    "\n",
    "drug_count = drug_df.count()\n",
    "drugs = drug_count.index\n",
    "count = drug_count['Mouse ID']\n",
    "plt.ylabel('Count of Mice')\n",
    "plt.xlabel('Drug Regimen')\n",
    "plt.xticks(rotation=90)\n",
    "plt.title('Measurements Taken For Each Treatment Regimen')\n",
    "plt.bar(drugs,count,width=.5);"
   ]
  },
  {
   "cell_type": "code",
   "execution_count": 24,
   "metadata": {},
   "outputs": [],
   "source": [
    "# Pie Chart, Build DF\n",
    "mouse_metadata_clean = mouse_metadata[mouse_metadata['Mouse ID'] != dups[0]]\n",
    "mouse_metadata_bysex = mouse_metadata_clean.groupby('Sex').count()"
   ]
  },
  {
   "cell_type": "code",
   "execution_count": 25,
   "metadata": {},
   "outputs": [
    {
     "data": {
      "image/png": "[encoded data removed]",
      "text/plain": [
       "<Figure size 432x288 with 1 Axes>"
      ]
     },
     "metadata": {},
     "output_type": "display_data"
    }
   ],
   "source": [
    "# DF.plot()\n",
    "mouse_metadata_bysex['Mouse ID'].plot.pie(startangle=90,title=\"Sex\").set_ylabel('');"
   ]
  },
  {
   "cell_type": "code",
   "execution_count": 26,
   "metadata": {},
   "outputs": [
    {
     "data": {
      "image/png": "[encoded data removed]",
      "text/plain": [
       "<Figure size 432x288 with 1 Axes>"
      ]
     },
     "metadata": {},
     "output_type": "display_data"
    }
   ],
   "source": [
    "# pyplot\n",
    "\n",
    "mouse_metadata_bysex\n",
    "sex = mouse_metadata_bysex.index\n",
    "count = mouse_metadata_bysex['Mouse ID']\n",
    "plt.pie(mouse_metadata_bysex['Mouse ID'],startangle=90,labels=sex)\n",
    "plt.title('Sex');"
   ]
  },
  {
   "cell_type": "code",
   "execution_count": 85,
   "metadata": {},
   "outputs": [
    {
     "data": {
      "text/plain": [
       "[46.78453491,\n",
       " 67.74866174,\n",
       " 64.72983655,\n",
       " 68.59474498,\n",
       " 45.0,\n",
       " 67.52748237,\n",
       " 47.784681799999994,\n",
       " 45.0,\n",
       " 68.92318457,\n",
       " 64.63494887,\n",
       " 45.0,\n",
       " 45.0]"
      ]
     },
     "execution_count": 85,
     "metadata": {},
     "output_type": "execute_result"
    }
   ],
   "source": [
    "outliers_dict['Ceftamin']"
   ]
  },
  {
   "cell_type": "code",
   "execution_count": 83,
   "metadata": {},
   "outputs": [],
   "source": [
    "# Hide Slice Copy Warning\n",
    "pd.options.mode.chained_assignment = None\n",
    "\n",
    "# Create DF with only the top 4 treatments\n",
    "top = ['Capomulin','Ceftamin','Infubinol','Ramicane']\n",
    "top_treatments_df = main_df[(main_df['Drug Regimen'] == top[0])|(main_df['Drug Regimen'] == top[1])|\n",
    "                           (main_df['Drug Regimen'] == top[2])|(main_df['Drug Regimen'] == top[3])]\n",
    "\n",
    "# find max Timepoint for each mouse\n",
    "latest_timepoints = top_treatments_df.groupby('Mouse ID').max()['Timepoint']\n",
    "\n",
    "# create column of what each mouse's latest timepoint was and only keep rows where the current timpoint matches\n",
    "top_treatments_df['Final'] = top_treatments_df['Mouse ID'].apply(lambda x: latest_timepoints[x])\n",
    "df_final = top_treatments_df[top_treatments_df['Timepoint']==top_treatments_df['Final']]"
   ]
  },
  {
   "cell_type": "code",
   "execution_count": 102,
   "metadata": {},
   "outputs": [
    {
     "data": {
      "image/png": "[encoded data removed]",
      "text/plain": [
       "<Figure size 432x288 with 1 Axes>"
      ]
     },
     "metadata": {
      "needs_background": "light"
     },
     "output_type": "display_data"
    }
   ],
   "source": [
    "# Build Quartile DF and then Transpose DF\n",
    "qt = df_final.groupby('Drug Regimen')['Tumor Volume (mm3)'].describe()[['25%','50%','75%']]\n",
    "qt = qt.T\n",
    "\n",
    "# Build Outlers Dictionary\n",
    "outliers_dict = {'Capomulin':[],'Ceftamin':[],'Infubinol':[],'Ramicane':[]}\n",
    "\n",
    "# Go through top 4 drugs and grab rows when the drug matches and when the tumor volume is < .25 or > .75\n",
    "for drug in top:\n",
    "    temp = df_final[(df_final['Drug Regimen'] == drug) & \n",
    "                    ((df_final['Tumor Volume (mm3)'] < qt[drug][:1][0]) | (df_final['Tumor Volume (mm3)'] > qt[drug][-1:][0]))]\n",
    "    outliers_dict[drug] = list(temp['Tumor Volume (mm3)'])\n",
    "\n",
    "# Build Outliers DF\n",
    "outliers_df = pd.DataFrame(outliers_dict)\n",
    "\n",
    "# Build Box Plot and Plot Outliers\n",
    "qt.plot(kind='box')\n",
    "\n",
    "for num in range(4):\n",
    "    drug = top[num]\n",
    "    for item in outliers_df[drug]:\n",
    "        plt.plot(num+1,item,'bo',markersize=1,c='r')\n",
    "\n",
    "plt.title('Top 4 Drug Regimen and Final Tumor Size')\n",
    "plt.xlabel('Drug Regimen')\n",
    "plt.ylabel('Tumor Volume (mm3)');"
   ]
  },
  {
   "cell_type": "code",
   "execution_count": 96,
   "metadata": {},
   "outputs": [],
   "source": [
    "# Demonstrate Other way to grab Quartile's with quantile([.25,.5,.75])\n",
    "qt2 = df_final.groupby('Drug Regimen')['Tumor Volume (mm3)'].quantile([.25,.5,.75])"
   ]
  },
  {
   "cell_type": "code",
   "execution_count": 97,
   "metadata": {},
   "outputs": [
    {
     "data": {
      "text/plain": [
       "array(['b128', 'j246', 'r554', 's185', 'b742', 'x401', 'l509', 's710',\n",
       "       'r157', 'u364', 'j119', 'v923', 'w914', 'i738', 'r944', 'y793',\n",
       "       'g316', 'g288', 'l897', 'w150', 't565', 'i557', 'm957', 'f966',\n",
       "       'm601'], dtype=object)"
      ]
     },
     "execution_count": 97,
     "metadata": {},
     "output_type": "execute_result"
    }
   ],
   "source": [
    "# Find Mice ID's from Capomulin Drug Regimen\n",
    "df_final[df_final['Drug Regimen']=='Capomulin']['Mouse ID'].values"
   ]
  },
  {
   "cell_type": "code",
   "execution_count": 104,
   "metadata": {},
   "outputs": [
    {
     "data": {
      "image/png": "[encoded data removed]",
      "text/plain": [
       "<Figure size 432x288 with 1 Axes>"
      ]
     },
     "metadata": {
      "needs_background": "light"
     },
     "output_type": "display_data"
    }
   ],
   "source": [
    "# Line Plot of Tumor Volume vs Timepoint\n",
    "main_df[main_df['Mouse ID']=='b128'].plot(x='Timepoint',y='Tumor Volume (mm3)')\n",
    "plt.ylabel('Tumor Volume (mm3)')\n",
    "plt.title('Tumor Volume vs Timepoint');"
   ]
  },
  {
   "cell_type": "code",
   "execution_count": 118,
   "metadata": {},
   "outputs": [
    {
     "data": {
      "image/png": "[encoded data removed]",
      "text/plain": [
       "<Figure size 432x288 with 1 Axes>"
      ]
     },
     "metadata": {
      "needs_background": "light"
     },
     "output_type": "display_data"
    }
   ],
   "source": [
    "# Perform a linear regression on Weight vs Tumor Volume\n",
    "tum_vol = df_final[df_final['Drug Regimen']=='Capomulin']['Tumor Volume (mm3)']\n",
    "weight = df_final[df_final['Drug Regimen']=='Capomulin']['Weight (g)']\n",
    "\n",
    "slope, yint, _r, _p, std_err = st.linregress(weight, tum_vol)\n",
    "fit = slope * weight + yint\n",
    "\n",
    "# Plot Scatter Plot with Linear Regression\n",
    "df_final[df_final['Drug Regimen']=='Capomulin'].plot(kind='scatter',x='Weight (g)',y='Tumor Volume (mm3)')\n",
    "plt.plot(weight,fit,'-',c='r',alpha=.5)\n",
    "plt.title('Mouse Weight vs Tumor Volume');"
   ]
  },
  {
   "cell_type": "code",
   "execution_count": null,
   "metadata": {},
   "outputs": [],
   "source": []
  },
  {
   "cell_type": "code",
   "execution_count": null,
   "metadata": {},
   "outputs": [],
   "source": []
  }
 ],
 "metadata": {
  "kernelspec": {
   "display_name": "PythonData",
   "language": "python",
   "name": "pythondata"
  },
  "language_info": {
   "codemirror_mode": {
    "name": "ipython",
    "version": 3
   },
   "file_extension": ".py",
   "mimetype": "text/x-python",
   "name": "python",
   "nbconvert_exporter": "python",
   "pygments_lexer": "ipython3",
   "version": "3.6.10"
  }
 },
 "nbformat": 4,
 "nbformat_minor": 4
}
